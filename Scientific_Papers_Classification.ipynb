{
 "cells": [
  {
   "cell_type": "markdown",
   "id": "333d86e0",
   "metadata": {},
   "source": [
    "# Necessary Imports"
   ]
  },
  {
   "cell_type": "code",
   "execution_count": 1,
   "id": "bae66d4c",
   "metadata": {},
   "outputs": [],
   "source": [
    "import numpy as np\n",
    "from sklearn.model_selection import StratifiedKFold\n",
    "from sklearn.metrics import accuracy_score\n",
    "from sklearn.naive_bayes import MultinomialNB\n",
    "import pandas as pd"
   ]
  },
  {
   "cell_type": "markdown",
   "id": "b169e37b",
   "metadata": {},
   "source": [
    "# Loading the cora dataset and extracting the features and labels"
   ]
  },
  {
   "cell_type": "code",
   "execution_count": 2,
   "id": "95fa97dd",
   "metadata": {},
   "outputs": [],
   "source": [
    "def load_data():\n",
    "    \"\"\"\n",
    "    Loading the Cora dataset from the provided files.\n",
    "    \n",
    "    Returns:\n",
    "    X (numpy array): Features representing word attributes.\n",
    "    y (numpy array): Class labels.\n",
    "    \"\"\"\n",
    "    with open('downloads/cora/cora.content', 'r') as file:\n",
    "        lines = file.readlines()\n",
    "    data = [line.strip().split() for line in lines]\n",
    "    X = np.array([list(map(int, row[1:-1])) for row in data])\n",
    "    y = np.array([row[-1] for row in data])\n",
    "    return X, y"
   ]
  },
  {
   "cell_type": "markdown",
   "id": "d8705698",
   "metadata": {},
   "source": [
    "# Loading the citation information in the form of a graph"
   ]
  },
  {
   "cell_type": "code",
   "execution_count": 3,
   "id": "3506a34a",
   "metadata": {},
   "outputs": [],
   "source": [
    "def load_citation_graph():\n",
    "    \"\"\"\n",
    "    Loading the citation graph from the .cites file.\n",
    "    \n",
    "    Returns:\n",
    "    citation_graph (list): List of citation information.\n",
    "    \"\"\"\n",
    "    with open('downloads/cora/cora.cites', 'r') as file:\n",
    "        lines = file.readlines()\n",
    "    citation_graph = [line.strip().split() for line in lines]\n",
    "    return citation_graph"
   ]
  },
  {
   "cell_type": "markdown",
   "id": "40c869b1",
   "metadata": {},
   "source": [
    "# Splitting the dataset into 10 folds"
   ]
  },
  {
   "cell_type": "code",
   "execution_count": 4,
   "id": "5d45cef8",
   "metadata": {},
   "outputs": [],
   "source": [
    "def split_dataset(X, y):\n",
    "    \"\"\"\n",
    "    Spliting the dataset into train and test sets using Stratified K-Fold cross-validation.\n",
    "    \n",
    "    Args:\n",
    "    X (numpy array): Features representing word attributes.\n",
    "    y (numpy array): Class labels.\n",
    "    \n",
    "    Returns:\n",
    "    folds: Generator object yielding train and test indices for each fold.\n",
    "    \"\"\"\n",
    "    skf = StratifiedKFold(n_splits=10, shuffle=True, random_state=42)\n",
    "    return skf.split(X, y)"
   ]
  },
  {
   "cell_type": "markdown",
   "id": "a19f2bc1",
   "metadata": {},
   "source": [
    "# Naives Bayes Classifer which is the common model for text based classification is used"
   ]
  },
  {
   "cell_type": "code",
   "execution_count": 5,
   "id": "416afbe7",
   "metadata": {},
   "outputs": [],
   "source": [
    "def train_and_predict(X_train, y_train, X_test):\n",
    "    \"\"\"\n",
    "    Training a Multinomial Naive Bayes classifier to make predictions.\n",
    "    \n",
    "    Args:\n",
    "    X_train (numpy array): Features of the training set.\n",
    "    y_train (numpy array): Labels of the training set.\n",
    "    X_test (numpy array): Features of the test set.\n",
    "    \n",
    "    Returns:\n",
    "    predictions (numpy array): Predicted class labels for the test set.\n",
    "    \"\"\"\n",
    "    nb_classifier = MultinomialNB()\n",
    "    nb_classifier.fit(X_train, y_train)\n",
    "    predictions = nb_classifier.predict(X_test)\n",
    "    return predictions"
   ]
  },
  {
   "cell_type": "markdown",
   "id": "8a8fffc1",
   "metadata": {},
   "source": [
    "# Saving the predictions in the form of a tab seperated values format as given in the challenge"
   ]
  },
  {
   "cell_type": "code",
   "execution_count": 6,
   "id": "0c7eefa4",
   "metadata": {},
   "outputs": [],
   "source": [
    "def save_predictions(predictions, test_indices, y_true):\n",
    "    \"\"\"\n",
    "    Save the predictions to a TSV file.\n",
    "    \n",
    "    Args:\n",
    "    predictions (numpy array): Predicted class labels.\n",
    "    test_indices (numpy array): Indices of the test set samples.\n",
    "    y_true (numpy array): True class labels of the test set.\n",
    "    \"\"\"\n",
    "    predictions_df = pd.DataFrame({'paper_id': test_indices, 'class_label': predictions, 'true_label': y_true})\n",
    "    predictions_df.to_csv('predictions.tsv', sep='\\t', index=False)\n"
   ]
  },
  {
   "cell_type": "markdown",
   "id": "20f324d8",
   "metadata": {},
   "source": [
    "# Evaluating the predictions by accuracy score"
   ]
  },
  {
   "cell_type": "code",
   "execution_count": 7,
   "id": "106272d5",
   "metadata": {},
   "outputs": [],
   "source": [
    "def evaluate_accuracy(y_true, predictions):\n",
    "    \"\"\"\n",
    "    Calculate the accuracy of the predictions.\n",
    "    \n",
    "    Args:\n",
    "    y_true (numpy array): True class labels.\n",
    "    predictions (numpy array): Predicted class labels.\n",
    "    \n",
    "    Returns:\n",
    "    accuracy (float): Accuracy of the predictions.\n",
    "    \"\"\"\n",
    "    accuracy = accuracy_score(y_true, predictions)\n",
    "    return accuracy"
   ]
  },
  {
   "cell_type": "markdown",
   "id": "880a20ca",
   "metadata": {},
   "source": [
    "# Main functions to carryout the training and evaluation process"
   ]
  },
  {
   "cell_type": "code",
   "execution_count": 8,
   "id": "a7a42bc7",
   "metadata": {},
   "outputs": [
    {
     "name": "stdout",
     "output_type": "stream",
     "text": [
      "Fold 1\n",
      "Accuracy: 0.7675276752767528\n",
      "Fold 2\n",
      "Accuracy: 0.7822878228782287\n",
      "Fold 3\n",
      "Accuracy: 0.7749077490774908\n",
      "Fold 4\n",
      "Accuracy: 0.8044280442804428\n",
      "Fold 5\n",
      "Accuracy: 0.7749077490774908\n",
      "Fold 6\n",
      "Accuracy: 0.7933579335793358\n",
      "Fold 7\n",
      "Accuracy: 0.7527675276752768\n",
      "Fold 8\n",
      "Accuracy: 0.7675276752767528\n",
      "Fold 9\n",
      "Accuracy: 0.7666666666666667\n",
      "Fold 10\n",
      "Accuracy: 0.7481481481481481\n",
      "Mean Accuracy across all folds: 0.7732526991936586\n"
     ]
    }
   ],
   "source": [
    "if __name__ == \"__main__\":\n",
    "    # Load data\n",
    "    X, y = load_data()\n",
    "    citation_graph = load_citation_graph()\n",
    "\n",
    "    accuracies = []\n",
    "\n",
    "    # Split dataset\n",
    "    folds = split_dataset(X, y)\n",
    "\n",
    "    # Perform cross-validation\n",
    "    for fold, (train_indices, test_indices) in enumerate(folds):\n",
    "        print(f\"Fold {fold+1}\")\n",
    "\n",
    "        # Split data into train and test sets\n",
    "        X_train, X_test = X[train_indices], X[test_indices]\n",
    "        y_train, y_test = y[train_indices], y[test_indices]\n",
    "\n",
    "        # Train model and make predictions\n",
    "        predictions = train_and_predict(X_train, y_train, X_test)\n",
    "\n",
    "        # Save predictions\n",
    "        save_predictions(predictions, test_indices, y_test)\n",
    "\n",
    "        # Evaluate accuracy\n",
    "        accuracy = evaluate_accuracy(y_test, predictions)\n",
    "        accuracies.append(accuracy)\n",
    "        print(f\"Accuracy: {accuracy}\")\n",
    "\n",
    "    # Overall performance\n",
    "    mean_accuracy = np.mean(accuracies)\n",
    "    print(f\"Mean Accuracy across all folds: {mean_accuracy}\")"
   ]
  },
  {
   "cell_type": "code",
   "execution_count": null,
   "id": "9009dcd8",
   "metadata": {},
   "outputs": [],
   "source": []
  }
 ],
 "metadata": {
  "kernelspec": {
   "display_name": "Python 3 (ipykernel)",
   "language": "python",
   "name": "python3"
  },
  "language_info": {
   "codemirror_mode": {
    "name": "ipython",
    "version": 3
   },
   "file_extension": ".py",
   "mimetype": "text/x-python",
   "name": "python",
   "nbconvert_exporter": "python",
   "pygments_lexer": "ipython3",
   "version": "3.11.4"
  }
 },
 "nbformat": 4,
 "nbformat_minor": 5
}
